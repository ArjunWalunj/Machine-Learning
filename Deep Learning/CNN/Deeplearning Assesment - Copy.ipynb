{
 "cells": [
  {
   "cell_type": "markdown",
   "id": "986ad48f",
   "metadata": {},
   "source": [
    "# Importing Packages"
   ]
  },
  {
   "cell_type": "code",
   "execution_count": 1,
   "id": "59acd3ac",
   "metadata": {},
   "outputs": [],
   "source": [
    "from keras.models import Sequential\n",
    "from keras.layers import Convolution2D\n",
    "from keras.layers import MaxPooling2D\n",
    "from keras.layers import Flatten\n",
    "from keras.layers import Dense\n",
    "import matplotlib.pyplot as plt \n",
    "%matplotlib inline"
   ]
  },
  {
   "cell_type": "markdown",
   "id": "66546e4d",
   "metadata": {},
   "source": [
    "## Q1.Import the cifar10 dataset from ‘keras.datasets’. Perform all the data preprocessing required."
   ]
  },
  {
   "cell_type": "markdown",
   "id": "116ce868",
   "metadata": {},
   "source": [
    "## Importing Dataset\n"
   ]
  },
  {
   "cell_type": "code",
   "execution_count": 2,
   "id": "0d1d4c56",
   "metadata": {},
   "outputs": [],
   "source": [
    "from keras.datasets import cifar10"
   ]
  },
  {
   "cell_type": "code",
   "execution_count": 3,
   "id": "a031a78a",
   "metadata": {},
   "outputs": [],
   "source": [
    "data=cifar10.load_data()"
   ]
  },
  {
   "cell_type": "markdown",
   "id": "6b6f0bdf",
   "metadata": {},
   "source": [
    "## Data Partition"
   ]
  },
  {
   "cell_type": "code",
   "execution_count": 4,
   "id": "c42c6e52",
   "metadata": {},
   "outputs": [],
   "source": [
    "(X_train,Y_train),( X_test, Y_test)=data"
   ]
  },
  {
   "cell_type": "code",
   "execution_count": 5,
   "id": "ea64f8ef",
   "metadata": {},
   "outputs": [
    {
     "data": {
      "text/plain": [
       "(50000, 32, 32, 3)"
      ]
     },
     "execution_count": 5,
     "metadata": {},
     "output_type": "execute_result"
    }
   ],
   "source": [
    "X_train.shape"
   ]
  },
  {
   "cell_type": "code",
   "execution_count": 6,
   "id": "01ce3cf8",
   "metadata": {},
   "outputs": [
    {
     "data": {
      "text/plain": [
       "(10000, 32, 32, 3)"
      ]
     },
     "execution_count": 6,
     "metadata": {},
     "output_type": "execute_result"
    }
   ],
   "source": [
    "X_test.shape"
   ]
  },
  {
   "cell_type": "markdown",
   "id": "4cd7724d",
   "metadata": {},
   "source": [
    "## Normalise the data"
   ]
  },
  {
   "cell_type": "code",
   "execution_count": 7,
   "id": "535d1db3",
   "metadata": {},
   "outputs": [],
   "source": [
    "X_train=X_train/255\n",
    "X_test=X_test/255"
   ]
  },
  {
   "cell_type": "markdown",
   "id": "638d81d4",
   "metadata": {},
   "source": [
    "## Q.2 Build a CNN architecture with Keras and stack an ANN on top of CNN.\n"
   ]
  },
  {
   "cell_type": "markdown",
   "id": "508a39f8",
   "metadata": {},
   "source": [
    "## Build a CNN architecture with Keras "
   ]
  },
  {
   "cell_type": "code",
   "execution_count": 8,
   "id": "9e68a599",
   "metadata": {},
   "outputs": [],
   "source": [
    "classifier = Sequential()\n",
    "\n",
    "classifier.add(Convolution2D(32, (3, 3), activation='relu', input_shape=(32, 32, 3)))\n",
    "classifier.add(MaxPooling2D(pool_size = (2, 2)))\n",
    "\n",
    "classifier.add(Convolution2D(32, (3, 3), activation='relu'))\n",
    "classifier.add(MaxPooling2D(pool_size=(2, 2)))\n",
    "\n",
    "classifier.add(Flatten())"
   ]
  },
  {
   "cell_type": "code",
   "execution_count": 9,
   "id": "eb542235",
   "metadata": {},
   "outputs": [
    {
     "name": "stdout",
     "output_type": "stream",
     "text": [
      "Model: \"sequential\"\n",
      "_________________________________________________________________\n",
      " Layer (type)                Output Shape              Param #   \n",
      "=================================================================\n",
      " conv2d (Conv2D)             (None, 30, 30, 32)        896       \n",
      "                                                                 \n",
      " max_pooling2d (MaxPooling2D  (None, 15, 15, 32)       0         \n",
      " )                                                               \n",
      "                                                                 \n",
      " conv2d_1 (Conv2D)           (None, 13, 13, 32)        9248      \n",
      "                                                                 \n",
      " max_pooling2d_1 (MaxPooling  (None, 6, 6, 32)         0         \n",
      " 2D)                                                             \n",
      "                                                                 \n",
      " flatten (Flatten)           (None, 1152)              0         \n",
      "                                                                 \n",
      "=================================================================\n",
      "Total params: 10,144\n",
      "Trainable params: 10,144\n",
      "Non-trainable params: 0\n",
      "_________________________________________________________________\n"
     ]
    }
   ],
   "source": [
    "classifier.summary()"
   ]
  },
  {
   "cell_type": "markdown",
   "id": "0b3cfea6",
   "metadata": {},
   "source": [
    "## stack an ANN on top of CNN."
   ]
  },
  {
   "cell_type": "code",
   "execution_count": 10,
   "id": "8c464792",
   "metadata": {},
   "outputs": [],
   "source": [
    "classifier.add(Dense(units = 512, activation = 'relu'))   ## 1 HIDDEN LAYER WITH 126 NEURONS \n",
    "classifier.add(Dense(units = 1, activation = 'sigmoid'))  ## OUTPUT LAYER WITH 1 NUERONS # sigmoid = pro"
   ]
  },
  {
   "cell_type": "code",
   "execution_count": 11,
   "id": "322813db",
   "metadata": {},
   "outputs": [],
   "source": [
    "# Compiling the CNN\n",
    "classifier.compile(optimizer = 'adam', loss = 'binary_crossentropy', metrics = ['accuracy'])"
   ]
  },
  {
   "cell_type": "code",
   "execution_count": 12,
   "id": "462a65ed",
   "metadata": {},
   "outputs": [
    {
     "name": "stdout",
     "output_type": "stream",
     "text": [
      "Model: \"sequential\"\n",
      "_________________________________________________________________\n",
      " Layer (type)                Output Shape              Param #   \n",
      "=================================================================\n",
      " conv2d (Conv2D)             (None, 30, 30, 32)        896       \n",
      "                                                                 \n",
      " max_pooling2d (MaxPooling2D  (None, 15, 15, 32)       0         \n",
      " )                                                               \n",
      "                                                                 \n",
      " conv2d_1 (Conv2D)           (None, 13, 13, 32)        9248      \n",
      "                                                                 \n",
      " max_pooling2d_1 (MaxPooling  (None, 6, 6, 32)         0         \n",
      " 2D)                                                             \n",
      "                                                                 \n",
      " flatten (Flatten)           (None, 1152)              0         \n",
      "                                                                 \n",
      " dense (Dense)               (None, 512)               590336    \n",
      "                                                                 \n",
      " dense_1 (Dense)             (None, 1)                 513       \n",
      "                                                                 \n",
      "=================================================================\n",
      "Total params: 600,993\n",
      "Trainable params: 600,993\n",
      "Non-trainable params: 0\n",
      "_________________________________________________________________\n"
     ]
    }
   ],
   "source": [
    "classifier.summary()"
   ]
  },
  {
   "cell_type": "code",
   "execution_count": 13,
   "id": "0dfc38a1",
   "metadata": {},
   "outputs": [
    {
     "name": "stdout",
     "output_type": "stream",
     "text": [
      "Epoch 1/10\n",
      "1563/1563 [==============================] - 96s 59ms/step - loss: -106163249152.0000 - accuracy: 0.1000\n",
      "Epoch 2/10\n",
      "1563/1563 [==============================] - 102s 65ms/step - loss: -2439823753216.0000 - accuracy: 0.1000\n",
      "Epoch 3/10\n",
      "1563/1563 [==============================] - 89s 57ms/step - loss: -12150600892416.0000 - accuracy: 0.1000\n",
      "Epoch 4/10\n",
      "1563/1563 [==============================] - 87s 56ms/step - loss: -34633764831232.0000 - accuracy: 0.1000\n",
      "Epoch 5/10\n",
      "1563/1563 [==============================] - 82s 53ms/step - loss: -75629114425344.0000 - accuracy: 0.1000\n",
      "Epoch 6/10\n",
      "1563/1563 [==============================] - 85s 54ms/step - loss: -141304474370048.0000 - accuracy: 0.1000\n",
      "Epoch 7/10\n",
      "1563/1563 [==============================] - 83s 53ms/step - loss: -238266330644480.0000 - accuracy: 0.1000\n",
      "Epoch 8/10\n",
      "1563/1563 [==============================] - 77s 49ms/step - loss: -374339685842944.0000 - accuracy: 0.1000\n",
      "Epoch 9/10\n",
      "1563/1563 [==============================] - 80s 51ms/step - loss: -557884911910912.0000 - accuracy: 0.1000\n",
      "Epoch 10/10\n",
      "1563/1563 [==============================] - 76s 49ms/step - loss: -797400339841024.0000 - accuracy: 0.1000\n"
     ]
    }
   ],
   "source": [
    "# fit model\n",
    "history = classifier.fit(X_train, Y_train, epochs=10)\n"
   ]
  },
  {
   "cell_type": "markdown",
   "id": "2d40dec4",
   "metadata": {},
   "source": [
    "## Q.3 Fit and evaluate the model. Plot the training and validation curves."
   ]
  },
  {
   "cell_type": "markdown",
   "id": "c20a6309",
   "metadata": {},
   "source": [
    "### Evaluate the model"
   ]
  },
  {
   "cell_type": "code",
   "execution_count": 15,
   "id": "b23b53d1",
   "metadata": {},
   "outputs": [
    {
     "data": {
      "text/plain": [
       "[-1636715131305984.0, 0.10000000149011612]"
      ]
     },
     "execution_count": 15,
     "metadata": {},
     "output_type": "execute_result"
    }
   ],
   "source": [
    "score = classifier.evaluate(X_test, Y_test, batch_size=128, verbose=0)\n",
    "score"
   ]
  },
  {
   "cell_type": "code",
   "execution_count": 16,
   "id": "6f285b90",
   "metadata": {},
   "outputs": [
    {
     "name": "stdout",
     "output_type": "stream",
     "text": [
      "['loss', 'accuracy']\n"
     ]
    }
   ],
   "source": [
    "print(classifier.metrics_names)"
   ]
  },
  {
   "cell_type": "markdown",
   "id": "e6da66d8",
   "metadata": {},
   "source": [
    "## Plot the training and validation curves"
   ]
  },
  {
   "cell_type": "code",
   "execution_count": 19,
   "id": "32bc9fb6",
   "metadata": {},
   "outputs": [],
   "source": [
    "def plotLosses(history):  \n",
    "    plt.plot(history.history['loss'])\n",
    "    plt.plot(history.history['accuracy'])\n",
    "    plt.title('model loss')\n",
    "    plt.ylabel('loss')\n",
    "    plt.xlabel('epoch')\n",
    "    plt.legend(['train', 'validation'], loc='upper left')\n",
    "    plt.show()"
   ]
  },
  {
   "cell_type": "code",
   "execution_count": 20,
   "id": "0baa9f42",
   "metadata": {},
   "outputs": [
    {
     "data": {
      "image/png": "[encoded data removed]",
      "text/plain": [
       "<Figure size 432x288 with 1 Axes>"
      ]
     },
     "metadata": {
      "needs_background": "light"
     },
     "output_type": "display_data"
    }
   ],
   "source": [
    "plotLosses(history)"
   ]
  },
  {
   "cell_type": "code",
   "execution_count": null,
   "id": "81510c2f",
   "metadata": {},
   "outputs": [],
   "source": []
  }
 ],
 "metadata": {
  "kernelspec": {
   "display_name": "Python 3 (ipykernel)",
   "language": "python",
   "name": "python3"
  },
  "language_info": {
   "codemirror_mode": {
    "name": "ipython",
    "version": 3
   },
   "file_extension": ".py",
   "mimetype": "text/x-python",
   "name": "python",
   "nbconvert_exporter": "python",
   "pygments_lexer": "ipython3",
   "version": "3.9.12"
  }
 },
 "nbformat": 4,
 "nbformat_minor": 5
}
