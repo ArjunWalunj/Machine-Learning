{
 "cells": [
  {
   "cell_type": "markdown",
   "id": "986ad48f",
   "metadata": {},
   "source": [
    "# Importing Packages"
   ]
  },
  {
   "cell_type": "code",
   "execution_count": 1,
   "id": "59acd3ac",
   "metadata": {},
   "outputs": [],
   "source": [
    "from keras.models import Sequential\n",
    "from keras.layers import Convolution2D\n",
    "from keras.layers import MaxPooling2D\n",
    "from keras.layers import Flatten\n",
    "from keras.layers import Dense\n",
    "import matplotlib.pyplot as plt \n",
    "%matplotlib inline"
   ]
  },
  {
   "cell_type": "markdown",
   "id": "66546e4d",
   "metadata": {},
   "source": [
    "## Q1.Import the cifar10 dataset from ‘keras.datasets’. Perform all the data preprocessing required."
   ]
  },
  {
   "cell_type": "markdown",
   "id": "116ce868",
   "metadata": {},
   "source": [
    "## Importing Dataset\n"
   ]
  },
  {
   "cell_type": "code",
   "execution_count": 2,
   "id": "0d1d4c56",
   "metadata": {},
   "outputs": [],
   "source": [
    "from keras.datasets import cifar10"
   ]
  },
  {
   "cell_type": "code",
   "execution_count": 3,
   "id": "a031a78a",
   "metadata": {},
   "outputs": [],
   "source": [
    "data=cifar10.load_data()"
   ]
  },
  {
   "cell_type": "markdown",
   "id": "6b6f0bdf",
   "metadata": {},
   "source": [
    "## Data Partition"
   ]
  },
  {
   "cell_type": "code",
   "execution_count": 4,
   "id": "c42c6e52",
   "metadata": {},
   "outputs": [],
   "source": [
    "(X_train,Y_train),( X_test, Y_test)=data"
   ]
  },
  {
   "cell_type": "code",
   "execution_count": 5,
   "id": "ea64f8ef",
   "metadata": {},
   "outputs": [
    {
     "data": {
      "text/plain": [
       "(50000, 32, 32, 3)"
      ]
     },
     "execution_count": 5,
     "metadata": {},
     "output_type": "execute_result"
    }
   ],
   "source": [
    "X_train.shape"
   ]
  },
  {
   "cell_type": "code",
   "execution_count": 6,
   "id": "01ce3cf8",
   "metadata": {},
   "outputs": [
    {
     "data": {
      "text/plain": [
       "(10000, 32, 32, 3)"
      ]
     },
     "execution_count": 6,
     "metadata": {},
     "output_type": "execute_result"
    }
   ],
   "source": [
    "X_test.shape"
   ]
  },
  {
   "cell_type": "markdown",
   "id": "4cd7724d",
   "metadata": {},
   "source": [
    "## Normalise the data"
   ]
  },
  {
   "cell_type": "code",
   "execution_count": 7,
   "id": "535d1db3",
   "metadata": {},
   "outputs": [],
   "source": [
    "X_train=X_train/255\n",
    "X_test=X_test/255"
   ]
  },
  {
   "cell_type": "markdown",
   "id": "638d81d4",
   "metadata": {},
   "source": [
    "## Q.2 Build a CNN architecture with Keras and stack an ANN on top of CNN.\n"
   ]
  },
  {
   "cell_type": "markdown",
   "id": "508a39f8",
   "metadata": {},
   "source": [
    "## Build a CNN architecture with Keras "
   ]
  },
  {
   "cell_type": "code",
   "execution_count": 8,
   "id": "9e68a599",
   "metadata": {},
   "outputs": [],
   "source": [
    "classifier = Sequential()\n",
    "\n",
    "classifier.add(Convolution2D(32, (3, 3), activation='relu', input_shape=(32, 32, 3)))\n",
    "classifier.add(MaxPooling2D(pool_size = (2, 2)))\n",
    "\n",
    "classifier.add(Convolution2D(32, (3, 3), activation='relu'))\n",
    "classifier.add(MaxPooling2D(pool_size=(2, 2)))\n",
    "\n",
    "classifier.add(Flatten())"
   ]
  },
  {
   "cell_type": "code",
   "execution_count": 9,
   "id": "eb542235",
   "metadata": {},
   "outputs": [
    {
     "name": "stdout",
     "output_type": "stream",
     "text": [
      "Model: \"sequential\"\n",
      "_________________________________________________________________\n",
      " Layer (type)                Output Shape              Param #   \n",
      "=================================================================\n",
      " conv2d (Conv2D)             (None, 30, 30, 32)        896       \n",
      "                                                                 \n",
      " max_pooling2d (MaxPooling2D  (None, 15, 15, 32)       0         \n",
      " )                                                               \n",
      "                                                                 \n",
      " conv2d_1 (Conv2D)           (None, 13, 13, 32)        9248      \n",
      "                                                                 \n",
      " max_pooling2d_1 (MaxPooling  (None, 6, 6, 32)         0         \n",
      " 2D)                                                             \n",
      "                                                                 \n",
      " flatten (Flatten)           (None, 1152)              0         \n",
      "                                                                 \n",
      "=================================================================\n",
      "Total params: 10,144\n",
      "Trainable params: 10,144\n",
      "Non-trainable params: 0\n",
      "_________________________________________________________________\n"
     ]
    }
   ],
   "source": [
    "classifier.summary()"
   ]
  },
  {
   "cell_type": "markdown",
   "id": "0b3cfea6",
   "metadata": {},
   "source": [
    "## stack an ANN on top of CNN."
   ]
  },
  {
   "cell_type": "code",
   "execution_count": 10,
   "id": "8c464792",
   "metadata": {},
   "outputs": [],
   "source": [
    "classifier.add(Dense(units = 512, activation = 'relu'))   ## 1 HIDDEN LAYER WITH 126 NEURONS \n",
    "classifier.add(Dense(units = 1, activation = 'sigmoid'))  ## OUTPUT LAYER WITH 1 NUERONS # sigmoid = pro"
   ]
  },
  {
   "cell_type": "code",
   "execution_count": 11,
   "id": "322813db",
   "metadata": {},
   "outputs": [],
   "source": [
    "# Compiling the CNN\n",
    "classifier.compile(optimizer = 'adam', loss = 'binary_crossentropy', metrics = ['accuracy'])"
   ]
  },
  {
   "cell_type": "code",
   "execution_count": 12,
   "id": "462a65ed",
   "metadata": {},
   "outputs": [
    {
     "name": "stdout",
     "output_type": "stream",
     "text": [
      "Model: \"sequential\"\n",
      "_________________________________________________________________\n",
      " Layer (type)                Output Shape              Param #   \n",
      "=================================================================\n",
      " conv2d (Conv2D)             (None, 30, 30, 32)        896       \n",
      "                                                                 \n",
      " max_pooling2d (MaxPooling2D  (None, 15, 15, 32)       0         \n",
      " )                                                               \n",
      "                                                                 \n",
      " conv2d_1 (Conv2D)           (None, 13, 13, 32)        9248      \n",
      "                                                                 \n",
      " max_pooling2d_1 (MaxPooling  (None, 6, 6, 32)         0         \n",
      " 2D)                                                             \n",
      "                                                                 \n",
      " flatten (Flatten)           (None, 1152)              0         \n",
      "                                                                 \n",
      " dense (Dense)               (None, 512)               590336    \n",
      "                                                                 \n",
      " dense_1 (Dense)             (None, 1)                 513       \n",
      "                                                                 \n",
      "=================================================================\n",
      "Total params: 600,993\n",
      "Trainable params: 600,993\n",
      "Non-trainable params: 0\n",
      "_________________________________________________________________\n"
     ]
    }
   ],
   "source": [
    "classifier.summary()"
   ]
  },
  {
   "cell_type": "code",
   "execution_count": null,
   "id": "0dfc38a1",
   "metadata": {},
   "outputs": [
    {
     "name": "stdout",
     "output_type": "stream",
     "text": [
      "Epoch 1/10\n",
      " 383/1563 [======>.......................] - ETA: 1:12 - loss: -307963008.0000 - accuracy: 0.0989"
     ]
    }
   ],
   "source": [
    "# fit model\n",
    "history = classifier.fit(X_train, Y_train, epochs=10)\n"
   ]
  },
  {
   "cell_type": "markdown",
   "id": "2d40dec4",
   "metadata": {},
   "source": [
    "## Q.3 Fit and evaluate the model. Plot the training and validation curves."
   ]
  },
  {
   "cell_type": "markdown",
   "id": "34fcbd6d",
   "metadata": {},
   "source": [
    "### Fit Model"
   ]
  },
  {
   "cell_type": "code",
   "execution_count": null,
   "id": "f9d754f9",
   "metadata": {},
   "outputs": [],
   "source": [
    "history = classifier.fit(X_train, Y_train, batch_size=32, epochs=15)"
   ]
  },
  {
   "cell_type": "markdown",
   "id": "c20a6309",
   "metadata": {},
   "source": [
    "### Evaluate the model"
   ]
  },
  {
   "cell_type": "code",
   "execution_count": null,
   "id": "b23b53d1",
   "metadata": {},
   "outputs": [],
   "source": [
    "score = classifier.evaluate(X_test, Y_test, batch_size=128, verbose=0)\n",
    "score"
   ]
  },
  {
   "cell_type": "code",
   "execution_count": null,
   "id": "6f285b90",
   "metadata": {},
   "outputs": [],
   "source": [
    "print(classifier.metrics_names)"
   ]
  },
  {
   "cell_type": "markdown",
   "id": "e6da66d8",
   "metadata": {},
   "source": [
    "## Plot the training and validation curves"
   ]
  },
  {
   "cell_type": "code",
   "execution_count": null,
   "id": "32bc9fb6",
   "metadata": {},
   "outputs": [],
   "source": [
    "def plotLosses(history):  \n",
    "    plt.plot(history.history['loss'])\n",
    "    plt.plot(history.history['accuracy'])\n",
    "    plt.title('model loss')\n",
    "    plt.ylabel('loss')\n",
    "    plt.xlabel('epoch')\n",
    "    plt.legend(['train', 'validation'], loc='upper left')\n",
    "    plt.show()"
   ]
  },
  {
   "cell_type": "code",
   "execution_count": null,
   "id": "0baa9f42",
   "metadata": {},
   "outputs": [],
   "source": [
    "plotLosses(history)"
   ]
  },
  {
   "cell_type": "code",
   "execution_count": null,
   "id": "81510c2f",
   "metadata": {},
   "outputs": [],
   "source": []
  }
 ],
 "metadata": {
  "kernelspec": {
   "display_name": "Python 3 (ipykernel)",
   "language": "python",
   "name": "python3"
  },
  "language_info": {
   "codemirror_mode": {
    "name": "ipython",
    "version": 3
   },
   "file_extension": ".py",
   "mimetype": "text/x-python",
   "name": "python",
   "nbconvert_exporter": "python",
   "pygments_lexer": "ipython3",
   "version": "3.9.12"
  }
 },
 "nbformat": 4,
 "nbformat_minor": 5
}
