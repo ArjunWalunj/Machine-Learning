{
 "cells": [
  {
   "cell_type": "markdown",
   "id": "986ad48f",
   "metadata": {},
   "source": [
    "# Importing Packages"
   ]
  },
  {
   "cell_type": "code",
   "execution_count": 25,
   "id": "59acd3ac",
   "metadata": {},
   "outputs": [],
   "source": [
    "from keras.models import Sequential\n",
    "from keras.layers import Convolution2D\n",
    "from keras.layers import MaxPooling2D\n",
    "from keras.layers import Flatten\n",
    "from keras.layers import Dense\n",
    "import matplotlib.pyplot as plt \n",
    "%matplotlib inline"
   ]
  },
  {
   "cell_type": "markdown",
   "id": "66546e4d",
   "metadata": {},
   "source": [
    "## Q1.Import the cifar10 dataset from ‘keras.datasets’. Perform all the data preprocessing required."
   ]
  },
  {
   "cell_type": "markdown",
   "id": "116ce868",
   "metadata": {},
   "source": [
    "## Importing Dataset\n"
   ]
  },
  {
   "cell_type": "code",
   "execution_count": 2,
   "id": "0d1d4c56",
   "metadata": {},
   "outputs": [],
   "source": [
    "from keras.datasets import cifar10"
   ]
  },
  {
   "cell_type": "code",
   "execution_count": 3,
   "id": "a031a78a",
   "metadata": {},
   "outputs": [],
   "source": [
    "data=cifar10.load_data()"
   ]
  },
  {
   "cell_type": "markdown",
   "id": "6b6f0bdf",
   "metadata": {},
   "source": [
    "## Data Partition"
   ]
  },
  {
   "cell_type": "code",
   "execution_count": 5,
   "id": "c42c6e52",
   "metadata": {},
   "outputs": [],
   "source": [
    "(X_train,Y_train),( X_test, Y_test)=data"
   ]
  },
  {
   "cell_type": "code",
   "execution_count": 6,
   "id": "ea64f8ef",
   "metadata": {},
   "outputs": [
    {
     "data": {
      "text/plain": [
       "(50000, 32, 32, 3)"
      ]
     },
     "execution_count": 6,
     "metadata": {},
     "output_type": "execute_result"
    }
   ],
   "source": [
    "X_train.shape"
   ]
  },
  {
   "cell_type": "code",
   "execution_count": 7,
   "id": "01ce3cf8",
   "metadata": {},
   "outputs": [
    {
     "data": {
      "text/plain": [
       "(10000, 32, 32, 3)"
      ]
     },
     "execution_count": 7,
     "metadata": {},
     "output_type": "execute_result"
    }
   ],
   "source": [
    "X_test.shape"
   ]
  },
  {
   "cell_type": "markdown",
   "id": "4cd7724d",
   "metadata": {},
   "source": [
    "## Normalise the data"
   ]
  },
  {
   "cell_type": "code",
   "execution_count": 10,
   "id": "535d1db3",
   "metadata": {},
   "outputs": [],
   "source": [
    "X_train=X_train/255\n",
    "X_test=X_test/255"
   ]
  },
  {
   "cell_type": "markdown",
   "id": "638d81d4",
   "metadata": {},
   "source": [
    "## Q.2 Build a CNN architecture with Keras and stack an ANN on top of CNN.\n"
   ]
  },
  {
   "cell_type": "markdown",
   "id": "508a39f8",
   "metadata": {},
   "source": [
    "## Build a CNN architecture with Keras "
   ]
  },
  {
   "cell_type": "code",
   "execution_count": 13,
   "id": "9e68a599",
   "metadata": {},
   "outputs": [],
   "source": [
    "classifier = Sequential()\n",
    "\n",
    "classifier.add(Convolution2D(32, (3, 3), activation='relu', input_shape=(32, 32, 3)))\n",
    "classifier.add(MaxPooling2D(pool_size = (2, 2)))\n",
    "\n",
    "classifier.add(Convolution2D(32, (3, 3), activation='relu'))\n",
    "classifier.add(MaxPooling2D(pool_size=(2, 2)))\n",
    "\n",
    "classifier.add(Flatten())"
   ]
  },
  {
   "cell_type": "code",
   "execution_count": 14,
   "id": "eb542235",
   "metadata": {},
   "outputs": [
    {
     "name": "stdout",
     "output_type": "stream",
     "text": [
      "Model: \"sequential\"\n",
      "_________________________________________________________________\n",
      " Layer (type)                Output Shape              Param #   \n",
      "=================================================================\n",
      " conv2d (Conv2D)             (None, 30, 30, 32)        896       \n",
      "                                                                 \n",
      " max_pooling2d (MaxPooling2D  (None, 15, 15, 32)       0         \n",
      " )                                                               \n",
      "                                                                 \n",
      " conv2d_1 (Conv2D)           (None, 13, 13, 32)        9248      \n",
      "                                                                 \n",
      " max_pooling2d_1 (MaxPooling  (None, 6, 6, 32)         0         \n",
      " 2D)                                                             \n",
      "                                                                 \n",
      " flatten (Flatten)           (None, 1152)              0         \n",
      "                                                                 \n",
      "=================================================================\n",
      "Total params: 10,144\n",
      "Trainable params: 10,144\n",
      "Non-trainable params: 0\n",
      "_________________________________________________________________\n"
     ]
    }
   ],
   "source": [
    "classifier.summary()"
   ]
  },
  {
   "cell_type": "markdown",
   "id": "0b3cfea6",
   "metadata": {},
   "source": [
    "## stack an ANN on top of CNN."
   ]
  },
  {
   "cell_type": "code",
   "execution_count": 15,
   "id": "8c464792",
   "metadata": {},
   "outputs": [],
   "source": [
    "classifier.add(Dense(units = 256, activation = 'relu'))   ## 1 HIDDEN LAYER WITH 126 NEURONS \n",
    "classifier.add(Dense(units = 10, activation = 'softmax'))  ## OUTPUT LAYER WITH 10 NUERONS # sigmoid = pro"
   ]
  },
  {
   "cell_type": "code",
   "execution_count": 16,
   "id": "322813db",
   "metadata": {},
   "outputs": [],
   "source": [
    "# Compiling the CNN\n",
    "classifier.compile(optimizer = 'adam', loss = 'binary_crossentropy', metrics = ['accuracy'])"
   ]
  },
  {
   "cell_type": "code",
   "execution_count": 17,
   "id": "462a65ed",
   "metadata": {},
   "outputs": [
    {
     "name": "stdout",
     "output_type": "stream",
     "text": [
      "Model: \"sequential\"\n",
      "_________________________________________________________________\n",
      " Layer (type)                Output Shape              Param #   \n",
      "=================================================================\n",
      " conv2d (Conv2D)             (None, 30, 30, 32)        896       \n",
      "                                                                 \n",
      " max_pooling2d (MaxPooling2D  (None, 15, 15, 32)       0         \n",
      " )                                                               \n",
      "                                                                 \n",
      " conv2d_1 (Conv2D)           (None, 13, 13, 32)        9248      \n",
      "                                                                 \n",
      " max_pooling2d_1 (MaxPooling  (None, 6, 6, 32)         0         \n",
      " 2D)                                                             \n",
      "                                                                 \n",
      " flatten (Flatten)           (None, 1152)              0         \n",
      "                                                                 \n",
      " dense (Dense)               (None, 256)               295168    \n",
      "                                                                 \n",
      " dense_1 (Dense)             (None, 10)                2570      \n",
      "                                                                 \n",
      "=================================================================\n",
      "Total params: 307,882\n",
      "Trainable params: 307,882\n",
      "Non-trainable params: 0\n",
      "_________________________________________________________________\n"
     ]
    }
   ],
   "source": [
    "classifier.summary()"
   ]
  },
  {
   "cell_type": "code",
   "execution_count": 18,
   "id": "0dfc38a1",
   "metadata": {},
   "outputs": [
    {
     "name": "stdout",
     "output_type": "stream",
     "text": [
      "Epoch 1/15\n",
      "1250/1250 - 55s - loss: 0.2413 - accuracy: 0.4340 - val_loss: 0.2025 - val_accuracy: 0.5482 - 55s/epoch - 44ms/step\n",
      "Epoch 2/15\n",
      "1250/1250 - 52s - loss: 0.1900 - accuracy: 0.5800 - val_loss: 0.1799 - val_accuracy: 0.6122 - 52s/epoch - 41ms/step\n",
      "Epoch 3/15\n",
      "1250/1250 - 49s - loss: 0.1670 - accuracy: 0.6407 - val_loss: 0.1660 - val_accuracy: 0.6520 - 49s/epoch - 39ms/step\n",
      "Epoch 4/15\n",
      "1250/1250 - 54s - loss: 0.1514 - accuracy: 0.6843 - val_loss: 0.1562 - val_accuracy: 0.6717 - 54s/epoch - 43ms/step\n",
      "Epoch 5/15\n",
      "1250/1250 - 54s - loss: 0.1381 - accuracy: 0.7148 - val_loss: 0.1584 - val_accuracy: 0.6698 - 54s/epoch - 43ms/step\n",
      "Epoch 6/15\n",
      "1250/1250 - 54s - loss: 0.1282 - accuracy: 0.7392 - val_loss: 0.1506 - val_accuracy: 0.6934 - 54s/epoch - 43ms/step\n",
      "Epoch 7/15\n",
      "1250/1250 - 54s - loss: 0.1186 - accuracy: 0.7650 - val_loss: 0.1521 - val_accuracy: 0.6980 - 54s/epoch - 43ms/step\n",
      "Epoch 8/15\n",
      "1250/1250 - 53s - loss: 0.1093 - accuracy: 0.7896 - val_loss: 0.1526 - val_accuracy: 0.7035 - 53s/epoch - 42ms/step\n",
      "Epoch 9/15\n",
      "1250/1250 - 52s - loss: 0.1002 - accuracy: 0.8102 - val_loss: 0.1519 - val_accuracy: 0.7078 - 52s/epoch - 42ms/step\n",
      "Epoch 10/15\n",
      "1250/1250 - 55s - loss: 0.0917 - accuracy: 0.8302 - val_loss: 0.1598 - val_accuracy: 0.7097 - 55s/epoch - 44ms/step\n",
      "Epoch 11/15\n",
      "1250/1250 - 51s - loss: 0.0840 - accuracy: 0.8496 - val_loss: 0.1699 - val_accuracy: 0.6921 - 51s/epoch - 41ms/step\n",
      "Epoch 12/15\n",
      "1250/1250 - 51s - loss: 0.0768 - accuracy: 0.8676 - val_loss: 0.1710 - val_accuracy: 0.7003 - 51s/epoch - 41ms/step\n",
      "Epoch 13/15\n",
      "1250/1250 - 50s - loss: 0.0695 - accuracy: 0.8850 - val_loss: 0.1794 - val_accuracy: 0.7003 - 50s/epoch - 40ms/step\n",
      "Epoch 14/15\n",
      "1250/1250 - 50s - loss: 0.0621 - accuracy: 0.9019 - val_loss: 0.1867 - val_accuracy: 0.7000 - 50s/epoch - 40ms/step\n",
      "Epoch 15/15\n",
      "1250/1250 - 52s - loss: 0.0553 - accuracy: 0.9171 - val_loss: 0.2116 - val_accuracy: 0.6917 - 52s/epoch - 42ms/step\n"
     ]
    }
   ],
   "source": [
    "# fit model\n",
    "history = classifier.fit(X_train, Y_train, batch_size=32, epochs=15)\n"
   ]
  },
  {
   "cell_type": "markdown",
   "id": "2d40dec4",
   "metadata": {},
   "source": [
    "## Q.3 Fit and evaluate the model. Plot the training and validation curves."
   ]
  },
  {
   "cell_type": "markdown",
   "id": "34fcbd6d",
   "metadata": {},
   "source": [
    "### Fit Model"
   ]
  },
  {
   "cell_type": "code",
   "execution_count": 19,
   "id": "f9d754f9",
   "metadata": {},
   "outputs": [
    {
     "name": "stdout",
     "output_type": "stream",
     "text": [
      "Epoch 1/15\n",
      "1250/1250 - 50s - loss: 0.0500 - accuracy: 0.9291 - val_loss: 0.2172 - val_accuracy: 0.6947 - 50s/epoch - 40ms/step\n",
      "Epoch 2/15\n",
      "1250/1250 - 55s - loss: 0.0448 - accuracy: 0.9401 - val_loss: 0.2342 - val_accuracy: 0.6871 - 55s/epoch - 44ms/step\n",
      "Epoch 3/15\n",
      "1250/1250 - 50s - loss: 0.0391 - accuracy: 0.9512 - val_loss: 0.2432 - val_accuracy: 0.6961 - 50s/epoch - 40ms/step\n",
      "Epoch 4/15\n",
      "1250/1250 - 50s - loss: 0.0348 - accuracy: 0.9589 - val_loss: 0.2665 - val_accuracy: 0.6902 - 50s/epoch - 40ms/step\n",
      "Epoch 5/15\n",
      "1250/1250 - 51s - loss: 0.0319 - accuracy: 0.9649 - val_loss: 0.2747 - val_accuracy: 0.6962 - 51s/epoch - 41ms/step\n",
      "Epoch 6/15\n",
      "1250/1250 - 51s - loss: 0.0279 - accuracy: 0.9709 - val_loss: 0.2978 - val_accuracy: 0.6921 - 51s/epoch - 41ms/step\n",
      "Epoch 7/15\n",
      "1250/1250 - 50s - loss: 0.0256 - accuracy: 0.9757 - val_loss: 0.3250 - val_accuracy: 0.6821 - 50s/epoch - 40ms/step\n",
      "Epoch 8/15\n",
      "1250/1250 - 54s - loss: 0.0244 - accuracy: 0.9776 - val_loss: 0.3353 - val_accuracy: 0.6878 - 54s/epoch - 43ms/step\n",
      "Epoch 9/15\n",
      "1250/1250 - 62s - loss: 0.0204 - accuracy: 0.9835 - val_loss: 0.3488 - val_accuracy: 0.6878 - 62s/epoch - 49ms/step\n",
      "Epoch 10/15\n",
      "1250/1250 - 65s - loss: 0.0198 - accuracy: 0.9833 - val_loss: 0.3713 - val_accuracy: 0.6843 - 65s/epoch - 52ms/step\n",
      "Epoch 11/15\n",
      "1250/1250 - 58s - loss: 0.0184 - accuracy: 0.9852 - val_loss: 0.3931 - val_accuracy: 0.6832 - 58s/epoch - 47ms/step\n",
      "Epoch 12/15\n",
      "1250/1250 - 55s - loss: 0.0172 - accuracy: 0.9874 - val_loss: 0.3930 - val_accuracy: 0.6882 - 55s/epoch - 44ms/step\n",
      "Epoch 13/15\n",
      "1250/1250 - 53s - loss: 0.0168 - accuracy: 0.9884 - val_loss: 0.4095 - val_accuracy: 0.6881 - 53s/epoch - 42ms/step\n",
      "Epoch 14/15\n",
      "1250/1250 - 52s - loss: 0.0154 - accuracy: 0.9897 - val_loss: 0.4244 - val_accuracy: 0.6820 - 52s/epoch - 42ms/step\n",
      "Epoch 15/15\n",
      "1250/1250 - 53s - loss: 0.0148 - accuracy: 0.9898 - val_loss: 0.4333 - val_accuracy: 0.6836 - 53s/epoch - 43ms/step\n"
     ]
    }
   ],
   "source": [
    "history = classifier.fit(X_train, Y_train, batch_size=32, epochs=15)"
   ]
  },
  {
   "cell_type": "markdown",
   "id": "c20a6309",
   "metadata": {},
   "source": [
    "### Evaluate the model"
   ]
  },
  {
   "cell_type": "code",
   "execution_count": 20,
   "id": "b23b53d1",
   "metadata": {},
   "outputs": [
    {
     "data": {
      "text/plain": [
       "[0.44665342569351196, 0.6704000234603882]"
      ]
     },
     "execution_count": 20,
     "metadata": {},
     "output_type": "execute_result"
    }
   ],
   "source": [
    "score = classifier.evaluate(X_test, Y_test, batch_size=128, verbose=0)\n",
    "score"
   ]
  },
  {
   "cell_type": "code",
   "execution_count": 21,
   "id": "6f285b90",
   "metadata": {},
   "outputs": [
    {
     "name": "stdout",
     "output_type": "stream",
     "text": [
      "['loss', 'accuracy']\n"
     ]
    }
   ],
   "source": [
    "print(classifier.metrics_names)"
   ]
  },
  {
   "cell_type": "markdown",
   "id": "e6da66d8",
   "metadata": {},
   "source": [
    "## Plot the training and validation curves"
   ]
  },
  {
   "cell_type": "code",
   "execution_count": 35,
   "id": "32bc9fb6",
   "metadata": {},
   "outputs": [],
   "source": [
    "def plotLosses(history):  \n",
    "    plt.plot(history.history['loss'])\n",
    "    plt.plot(history.history['accuracy'])\n",
    "    plt.title('model loss')\n",
    "    plt.ylabel('loss')\n",
    "    plt.xlabel('epoch')\n",
    "    plt.legend(['train', 'validation'], loc='upper left')\n",
    "    plt.show()"
   ]
  },
  {
   "cell_type": "code",
   "execution_count": 36,
   "id": "0baa9f42",
   "metadata": {},
   "outputs": [
    {
     "data": {
      "image/png": "[encoded data removed]",
      "text/plain": [
       "<Figure size 432x288 with 1 Axes>"
      ]
     },
     "metadata": {
      "needs_background": "light"
     },
     "output_type": "display_data"
    }
   ],
   "source": [
    "plotLosses(history)"
   ]
  },
  {
   "cell_type": "code",
   "execution_count": null,
   "id": "81510c2f",
   "metadata": {},
   "outputs": [],
   "source": []
  }
 ],
 "metadata": {
  "kernelspec": {
   "display_name": "Python 3 (ipykernel)",
   "language": "python",
   "name": "python3"
  },
  "language_info": {
   "codemirror_mode": {
    "name": "ipython",
    "version": 3
   },
   "file_extension": ".py",
   "mimetype": "text/x-python",
   "name": "python",
   "nbconvert_exporter": "python",
   "pygments_lexer": "ipython3",
   "version": "3.9.12"
  }
 },
 "nbformat": 4,
 "nbformat_minor": 5
}
